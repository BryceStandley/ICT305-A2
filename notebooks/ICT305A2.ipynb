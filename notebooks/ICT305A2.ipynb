{
 "cells": [
  {
   "cell_type": "code",
   "execution_count": 221,
   "id": "initial_id",
   "metadata": {
    "ExecuteTime": {
     "end_time": "2023-10-23T14:33:45.176227400Z",
     "start_time": "2023-10-23T14:33:45.168739100Z"
    },
    "collapsed": true,
    "jupyter": {
     "outputs_hidden": true
    }
   },
   "outputs": [],
   "source": [
    "#ICT305 Assignment 1"
   ]
  },
  {
   "cell_type": "code",
   "execution_count": 222,
   "id": "6cf5aa80326d0d18",
   "metadata": {
    "ExecuteTime": {
     "end_time": "2023-10-23T14:33:45.185590200Z",
     "start_time": "2023-10-23T14:33:45.179230400Z"
    },
    "collapsed": false
   },
   "outputs": [],
   "source": [
    "#Imports and Setup"
   ]
  },
  {
   "cell_type": "code",
   "execution_count": 223,
   "id": "262e1b411b83869f",
   "metadata": {
    "ExecuteTime": {
     "end_time": "2023-10-23T14:33:45.489617800Z",
     "start_time": "2023-10-23T14:33:45.228231100Z"
    },
    "collapsed": false
   },
   "outputs": [],
   "source": [
    "#Imports\n",
    "import os\n",
    "import pandas as pd\n",
    "import numpy as np\n",
    "import datetime\n",
    "from pathlib import Path\n",
    "import seaborn as sns\n",
    "import matplotlib.pyplot as plt\n",
    "import import_ipynb\n",
    "\n",
    "from bokeh.core.enums import Align\n",
    "from bokeh.core.properties import Enum\n",
    "from bokeh.io import curdoc, output_notebook\n",
    "from bokeh.plotting import figure, show\n",
    "from bokeh.models import HoverTool, ColumnDataSource, Div, Slider, Range1d, PrintfTickFormatter, InlineStyleSheet, Button, CustomJS, SetValue, TabPanel, Tabs, Dropdown\n",
    "from bokeh.palettes import Spectral6\n",
    "from bokeh.layouts import column, row\n",
    "\n",
    "import_ipynb.NotebookLoader(\"./AssigOne_Temps.ipynb\")\n",
    "\n",
    "from src.other_graphs.evap_graph import *\n",
    "from src.other_graphs.rain_graph import *\n",
    "from src.other_graphs.sun_graph import *\n",
    "from src.Utils import *\n",
    "\n",
    "# Load title HTML file\n",
    "with open('./python/src/titleDiv.html', 'r', encoding='utf-8') as f:\n",
    "    titleDivContents = f.read()\n",
    "\n",
    "# Define the folder path\n",
    "folder_path = \"./python/ICT305_States\"\n",
    "\n",
    "# Create DFs\n",
    "adelaideDF = pd.read_csv(os.path.join(folder_path, \"Adelaide.csv\"), encoding='latin1')\n",
    "brisbaneDF = pd.read_csv(os.path.join(folder_path, \"Brisbane.csv\"), encoding='latin1')\n",
    "darwinDF = pd.read_csv(os.path.join(folder_path, \"Darwin.csv\"), encoding='latin1')\n",
    "hobartDF = pd.read_csv(os.path.join(folder_path, \"Hobart.csv\"), encoding='latin1')\n",
    "perthDF = pd.read_csv(os.path.join(folder_path, \"Perth.csv\"), encoding='latin1')\n",
    "melbourneDF = pd.read_csv(os.path.join(folder_path, \"Melbourne.csv\"), encoding='latin1')\n",
    "sydneyDF = pd.read_csv(os.path.join(folder_path, \"Sydney.csv\"), encoding='latin1')\n",
    "\n",
    "# Rename columns because they have garbage ascii characters in their names\n",
    "new_columns = {\n",
    "    'ï»¿Date': 'Date',\n",
    "    'Minimum temperature (ÃÂ°C)': 'Min Temperature (°C)',\n",
    "    'Maximum temperature (ÃÂ°C)': 'Max Temperature (°C)',\n",
    "    'Rainfall (mm)': 'Rainfall (mm)',\n",
    "    'Evaporation (mm)': 'Evaporation (mm)',\n",
    "    'Sunshine (hours)': 'Sunshine (hours)',\n",
    "    'Direction of maximum wind gust ': 'Max Wind Gust Direction',\n",
    "    'Speed of maximum wind gust (km/h)': 'Max Wind Gust Speed (km/h)',\n",
    "    'Time of maximum wind gust': 'Time of Max Wind Gust',\n",
    "    '9am Temperature (ÃÂ°C)': '9am Temperature (°C)',\n",
    "    '9am relative humidity (%)': '9am Relative Humidity (%)',\n",
    "    '9am cloud amount (oktas)': '9am Cloud Amount (oktas)',\n",
    "    '9am wind direction': '9am Wind Direction',\n",
    "    '9am wind speed (km/h)': '9am Wind Speed (km/h)',\n",
    "    '9am MSL pressure (hPa)': '9am MSL Pressure (hPa)',\n",
    "    '3pm Temperature (ÃÂ°C)': '3pm Temperature (°C)',\n",
    "    '3pm relative humidity (%)': '3pm Relative Humidity (%)',\n",
    "    '3pm cloud amount (oktas)': '3pm Cloud Amount (oktas)',\n",
    "    '3pm wind direction': '3pm Wind Direction',\n",
    "    '3pm wind speed (km/h)': '3pm Wind Speed (km/h)',\n",
    "    '3pm MSL pressure (hPa)': '3pm MSL Pressure (hPa)'\n",
    "}\n",
    "\n",
    "# Rename columns in each DataFrame\n",
    "adelaideDF = adelaideDF.rename(columns=new_columns)\n",
    "brisbaneDF = brisbaneDF.rename(columns=new_columns)\n",
    "darwinDF = darwinDF.rename(columns=new_columns)\n",
    "hobartDF = hobartDF.rename(columns=new_columns)\n",
    "perthDF = perthDF.rename(columns=new_columns)\n",
    "melbourneDF = melbourneDF.rename(columns=new_columns)\n",
    "sydneyDF = sydneyDF.rename(columns=new_columns)\n",
    "# Adding the City to each frame\n",
    "adelaideDF.insert(1, \"city\", \"adelaide\")\n",
    "brisbaneDF.insert(1, \"city\", \"brisbane\")\n",
    "darwinDF.insert(1, \"city\", \"darwin\")\n",
    "hobartDF.insert(1, \"city\", \"hobart\")\n",
    "perthDF.insert(1, \"city\", \"perth\")\n",
    "melbourneDF.insert(1, \"city\", \"melbourne\")\n",
    "sydneyDF.insert(1, \"city\", \"sydney\")\n",
    "\n",
    "# Grouping the data\n",
    "dataframes = [adelaideDF, brisbaneDF, darwinDF, hobartDF, melbourneDF, perthDF, sydneyDF]\n",
    "all_cities_df = pd.concat(dataframes)\n",
    "\n",
    "#Pre-process and update the dates of the dataframe to be the correct format\n",
    "all_cities_df[\"Date\"] = pd.to_datetime(all_cities_df[\"Date\"], format='%d/%m/%Y')\n"
   ]
  },
  {
   "cell_type": "code",
   "execution_count": 224,
   "id": "1647530657305bb8",
   "metadata": {
    "ExecuteTime": {
     "end_time": "2023-10-23T14:33:45.500904300Z",
     "start_time": "2023-10-23T14:33:45.488212100Z"
    },
    "collapsed": false
   },
   "outputs": [],
   "source": [
    "#Pre-processing Data"
   ]
  },
  {
   "cell_type": "code",
   "execution_count": 231,
   "id": "c19dfb60f9269fc6",
   "metadata": {
    "ExecuteTime": {
     "end_time": "2023-10-23T14:39:49.500921500Z",
     "start_time": "2023-10-23T14:39:48.068574800Z"
    },
    "collapsed": false
   },
   "outputs": [
    {
     "name": "stdout",
     "output_type": "stream",
     "text": [
      "['adelaide' 'brisbane' 'darwin' 'hobart' 'melbourne' 'perth' 'sydney']\n"
     ]
    }
   ],
   "source": [
    "# Add day, month and year columns\n",
    "all_cities_df['day'] = all_cities_df['Date'].dt.day\n",
    "all_cities_df['month'] = all_cities_df['Date'].dt.month\n",
    "all_cities_df['year'] = all_cities_df['Date'].dt.year\n",
    "\n",
    "#Trim Data\n",
    "df_trim = all_cities_df.loc[:,('Date', 'city', 'day', 'month', 'year', 'Evaporation (mm)', 'Rainfall (mm)', 'Sunshine (hours)')]\n",
    "df_trim.columns = ['date', 'city', 'day', 'month', 'year', 'evap', 'rain', 'sun']\n",
    "df_trim.fillna(value=0.0, inplace=True)\n",
    "df_trim.to_csv(path_or_buf=\"all_cities.csv\")\n",
    "\n",
    "# Default values\n",
    "default_capital = \"perth\"\n",
    "default_year = min(df_trim.year[df_trim.city == default_capital])\n",
    "default_month = min(df_trim.month[df_trim.year == default_year])\n",
    "\n",
    "# Default Data trimmed to default values\n",
    "data = df_trim[(df_trim['year'] == default_year) & (df_trim['month'] == default_month) & (df_trim['city'] == default_capital)]\n"
   ]
  },
  {
   "cell_type": "code",
   "execution_count": 226,
   "id": "24f6488a97a91586",
   "metadata": {
    "ExecuteTime": {
     "end_time": "2023-10-23T14:33:45.664437700Z",
     "start_time": "2023-10-23T14:33:45.661534800Z"
    },
    "collapsed": false
   },
   "outputs": [],
   "source": [
    "#Plot Setup"
   ]
  },
  {
   "cell_type": "code",
   "execution_count": 227,
   "id": "580719edf73c2c24",
   "metadata": {
    "ExecuteTime": {
     "end_time": "2023-10-23T14:33:45.761683500Z",
     "start_time": "2023-10-23T14:33:45.668439Z"
    },
    "collapsed": false
   },
   "outputs": [],
   "source": [
    "#Setup plot source data and build plots\n",
    "trimmedSourceData = ColumnDataSource(data={\n",
    "    'x' : data.day,\n",
    "    'evap' : data.evap,\n",
    "    'rain' : data.rain,\n",
    "    'sun' : data.sun,\n",
    "    'city' : data.city\n",
    "})\n",
    "\n",
    "evapPlot = CreateLinePlot(\"Perth Evaporation in {month} {year}\", df_trim, trimmedSourceData, default_month, default_year, \"x\", \"evap\", \"Day of the Month\", \"Evaporation\")\n",
    "rainPlot = CreateLinePlot(\"Perth Rainfall in {month} {year}\", df_trim, trimmedSourceData, default_month, default_year,\"x\", \"rain\", \"Day of the Month\", \"Rainfall\")\n",
    "sunPlot = CreateLinePlot(\"Perth Sunshine in {month} {year}\", df_trim, trimmedSourceData, default_month, default_year, \"x\", \"sun\", \"Day of the Month\", \"Sunshine\")\n"
   ]
  },
  {
   "cell_type": "code",
   "execution_count": 228,
   "id": "634cc2e56439dd9f",
   "metadata": {
    "ExecuteTime": {
     "end_time": "2023-10-23T14:33:45.807949500Z",
     "start_time": "2023-10-23T14:33:45.761683500Z"
    },
    "collapsed": false
   },
   "outputs": [],
   "source": [
    "#Plot Layouts\n",
    "year_slider = Slider(start=min(df_trim.year), end=max(df_trim.year), step=1, value=default_year, title='Year')\n",
    "month_slider = Slider(start=min(df_trim.month[(df_trim.year == year_slider.value) & (df_trim.city == default_capital)]), end=max(df_trim.month[(df_trim.year == year_slider.value) & (df_trim.city == default_capital)]), step=1, value=min(df_trim.month[(df_trim.year == year_slider.value) & (df_trim.city == default_capital)]), title='Month')\n",
    "\n",
    "dropdownMenu = [(\"Perth\", 'perth'), (\"Adelaide\", \"adelaide\"), (\"Brisbane\", \"brisbane\"), (\"Darwin\", \"darwin\"), (\"Hobart\", \"hobart\"), (\"Melbourne\", \"melbourne\"), (\"Sydney\", \"sydney\"), (\"All\", \"all\")]\n",
    "capitalDropdown = Dropdown(label=\"Capital City\", button_type=\"success\", menu=dropdownMenu)\n",
    "\n",
    "currentlySelectedCapital = default_capital\n",
    "\n",
    "# Creating the hover tools for the plot\n",
    "evapPlot.add_tools(CreateLinePlotHoverTool(('Evaporation', '@evap{%smm}'),[('Rainfall', '@rain{%smm}'), ('Sunshine', '@sun{%s hours}'), ('City', '@city')]))\n",
    "rainPlot.add_tools(CreateLinePlotHoverTool(('Rainfall', '@rain{%smm}'),[('Evaporation', '@evap{%smm}'), ('Sunshine', '@sun{%s hours}'), ('City', '@city')]))\n",
    "sunPlot.add_tools(CreateLinePlotHoverTool(('Sunshine', '@sun{%s hours}'),[('Rainfall', '@rain{%smm}'), ('Evaporation', '@evap{%smm}'), ('City', '@city')]))\n",
    "\n",
    "def update_plots(yearValue, monthValue, capital):\n",
    "    global trimmedSourceData, evapPlot, rainPlot, sunPlot\n",
    "    #Check if all cities are being plotted\n",
    "    if(capital == 'all'):\n",
    "        d = df_trim[ (df_trim['year'] == yearValue) & (df_trim['month'] == monthValue)].reset_index(drop=True)\n",
    "    else:\n",
    "        d = df_trim[ (df_trim['year'] == yearValue) & (df_trim['month'] == monthValue) & (df_trim['city'] == capital)].reset_index(drop=True)\n",
    "    \n",
    "    #Only update the data of the plot if there's data to use\n",
    "    if not d.empty:\n",
    "        newData = {\n",
    "            'x' : d.day,\n",
    "            'evap' : d.evap,\n",
    "            'rain' : d.rain,\n",
    "            'sun' : d.sun,\n",
    "            'city' : d.city\n",
    "        }\n",
    "        \n",
    "        trimmedSourceData.data = dict(newData)\n",
    "    \n",
    "        yEvapmin, yEvapmax = GetMinMax(d['evap'])\n",
    "        yRainmin, yRainmax = GetMinMax(d['rain'])\n",
    "        ySunmin, ySunmax = GetMinMax(d['sun'])\n",
    "        \n",
    "        if not capital == 'all':\n",
    "            evapPlot.y_range.start = yEvapmin - 1\n",
    "            evapPlot.y_range.end = yEvapmax + 5\n",
    "            rainPlot.y_range.start = yRainmin - 1\n",
    "            rainPlot.y_range.end = yRainmax + 5\n",
    "            sunPlot.y_range.start = ySunmin - 1\n",
    "            sunPlot.y_range.end= ySunmax + 5\n",
    "        else:\n",
    "            del(evapPlot)\n",
    "            del(rainPlot)\n",
    "            del(sunPlot)\n",
    "            \n",
    "            evapPlot = CreateMultiLinePlot(\"All Capitals Evaporation in {month} {year}\", df_trim, trimmedSourceData, monthValue, yearValue, \"x\", \"evap\", \"Day of the Month\", \"Evaporation\")\n",
    "            rainPlot = CreateMultiLinePlot(\"All Capitals Rainfall in {month} {year}\", df_trim, trimmedSourceData, monthValue, yearValue, \"x\", \"rain\", \"Day of the Month\", \"Rainfall\")\n",
    "            sunPlot = CreateMultiLinePlot(\"All Capitals Sunshine in {month} {year}\", df_trim, trimmedSourceData, monthValue, yearValue, \"x\", \"sun\", \"Day of the Month\", \"Sunshine\")\n",
    "            \n",
    "            # Creating the hover tools for the plot\n",
    "            evapPlot.add_tools(CreateLinePlotHoverTool(('Evaporation', '@evap{%smm}'),[('Rainfall', '@rain{%smm}'), ('Sunshine', '@sun{%s hours}'), ('City', '@city')]))\n",
    "            rainPlot.add_tools(CreateLinePlotHoverTool(('Rainfall', '@rain{%smm}'),[('Evaporation', '@evap{%smm}'), ('Sunshine', '@sun{%s hours}'), ('City', '@city')]))\n",
    "            sunPlot.add_tools(CreateLinePlotHoverTool(('Sunshine', '@sun{%s hours}'),[('Rainfall', '@rain{%smm}'), ('Evaporation', '@evap{%smm}'), ('City', '@city')]))\n",
    "            \n",
    "    else:\n",
    "        newData = {\n",
    "            'x' : [0],\n",
    "            'evap' : [0],\n",
    "            'rain' : [0],\n",
    "            'sun' : [0],\n",
    "            'city' : currentlySelectedCapital\n",
    "        }\n",
    "        \n",
    "        trimmedSourceData.data = dict(newData)\n",
    "    \n",
    "    \n",
    "    if(capital == \"all\"):\n",
    "        evapPlot.title.text = \"All Capitals Evaporation in {month} {year}\".format(month = datetime.datetime.strptime(str(monthValue), '%m').strftime('%B'), year = yearValue)\n",
    "        rainPlot.title.text = \"All Capitals Rainfall in {month} {year}\".format(month = datetime.datetime.strptime(str(monthValue), '%m').strftime('%B'), year = yearValue)\n",
    "        sunPlot.title.text = \"All Capitals Sunshine in {month} {year}\".format(month = datetime.datetime.strptime(str(monthValue), '%m').strftime('%B'), year = yearValue)\n",
    "    else:\n",
    "        evapPlot.title.text = currentlySelectedCapital.capitalize() + \" Evaporation in {month} {year}\".format(month = datetime.datetime.strptime(str(monthValue), '%m').strftime('%B'), year = yearValue)\n",
    "        rainPlot.title.text = currentlySelectedCapital.capitalize() + \" Rainfall in {month} {year}\".format(month = datetime.datetime.strptime(str(monthValue), '%m').strftime('%B'), year = yearValue)\n",
    "        sunPlot.title.text = currentlySelectedCapital.capitalize() + \" Sunshine in {month} {year}\".format(month = datetime.datetime.strptime(str(monthValue), '%m').strftime('%B'), year = yearValue)\n",
    "    \n",
    "    #month_slider.end = max(df_trim.month[df_trim.year == year_slider.value])\n",
    "    #if month_slider.end < month_slider.value:\n",
    "    #    month_slider.value = month_slider.end\n",
    "\n",
    "def slidersOnChange(attr, old, new):\n",
    "    global year_slider, month_slider, currentlySelectedCapital\n",
    "    clampSliders()\n",
    "    update_plots(year_slider.value, month_slider.value, currentlySelectedCapital)\n",
    "\n",
    "def capitalDropdownOnClick(event):\n",
    "    global year_slider, month_slider, currentlySelectedCapital\n",
    "    currentlySelectedCapital = event.item\n",
    "    clampSliders()\n",
    "\n",
    "    update_plots(year_slider.value, month_slider.value, currentlySelectedCapital)\n",
    "\n",
    "def clampSliders():\n",
    "    global year_slider, month_slider, currentlySelectedCapital, df_trim\n",
    "    # Get the new max year for the currently selected city\n",
    "    if(currentlySelectedCapital == 'all'):\n",
    "        yMin, yMax = GetMinMax(df_trim.year)\n",
    "    else:\n",
    "        yMin, yMax = GetMinMax(df_trim.year[df_trim.city == currentlySelectedCapital])\n",
    "    # Clamp the year value incase the selected value is outside the range\n",
    "    year_slider.value = clamp(year_slider.value, yMin, yMax)\n",
    "    # Set new min and max year values\n",
    "    year_slider.start = yMin\n",
    "    year_slider.end = yMax\n",
    "    # Get the new max month for the currently selected city\n",
    "    if(currentlySelectedCapital == 'all'):\n",
    "        mMin, mMax = GetMinMax(df_trim.month[(df_trim.year == year_slider.value)])\n",
    "    else:\n",
    "        mMin, mMax = GetMinMax(df_trim.month[(df_trim.city == currentlySelectedCapital) & (df_trim.year == year_slider.value)])\n",
    "    # Set new min and max month values\n",
    "    month_slider.start = mMin\n",
    "    month_slider.end = mMax\n",
    "    #Clamp the month value incase the selected value is outside the range\n",
    "    month_slider.value = clamp(month_slider.value, mMin, mMax)\n",
    "   \n",
    "year_slider.on_change('value', slidersOnChange)\n",
    "month_slider.on_change('value', slidersOnChange)\n",
    "capitalDropdown.on_click(capitalDropdownOnClick)\n",
    "\n",
    "titleDiv = Div(text=titleDivContents)"
   ]
  },
  {
   "cell_type": "code",
   "execution_count": 229,
   "id": "c565109f11721528",
   "metadata": {
    "ExecuteTime": {
     "end_time": "2023-10-23T14:33:45.807949500Z",
     "start_time": "2023-10-23T14:33:45.798028800Z"
    },
    "collapsed": false
   },
   "outputs": [],
   "source": [
    "# Temperature Graphs"
   ]
  },
  {
   "cell_type": "code",
   "execution_count": 230,
   "id": "74dc8ff81b0bc99c",
   "metadata": {
    "ExecuteTime": {
     "end_time": "2023-10-23T14:33:46.283807200Z",
     "start_time": "2023-10-23T14:33:45.802949400Z"
    },
    "collapsed": false
   },
   "outputs": [],
   "source": [
    "#TODO - Make temperatures have sub-tabs\n",
    "janTempsTab = TabPanel(child=AssigOne_Temps.janTemps, title='January 2021')\n",
    "monthlyPlotTempsTab = TabPanel(child=AssigOne_Temps.monthly_Plot_layout, title='Monthly')\n",
    "monthlyAvgPlotTempsTab = TabPanel(child=AssigOne_Temps.monthly_avg_temp_layout, title='Monthly Avg Temperatures')\n",
    "temp_YearOverYear_plotTempsTab = TabPanel(child=AssigOne_Temps.temp_YearOverYear_plot_layout, title='Year vs Year')\n",
    "monthly_MinMax_plot_layoutTempsTab = TabPanel(child=AssigOne_Temps.monthly_MinMax_plot_layout, title='Monthly Min/Max')\n",
    "yearly_MinMax_plot_layoutTempsTab = TabPanel(child=AssigOne_Temps.yearly_MinMax_plot_layout, title='Yearly Min/Max')\n",
    "\n",
    "tempTabs = TabPanel(child=Tabs(tabs=[janTempsTab,monthlyPlotTempsTab,monthlyAvgPlotTempsTab,temp_YearOverYear_plotTempsTab,monthly_MinMax_plot_layoutTempsTab,yearly_MinMax_plot_layoutTempsTab], margin=(10,0,0,0)), title='Temperature')\n",
    "\n",
    "evapTab = CreateGraphTabPanel(capitalDropdown, year_slider, month_slider, evapPlot, \"Evaporation\")\n",
    "rainTab = CreateGraphTabPanel(capitalDropdown, year_slider, month_slider, rainPlot, \"Rainfall\")\n",
    "sunTab = CreateGraphTabPanel(capitalDropdown, year_slider, month_slider, sunPlot, \"Sunshine\")\n",
    "\n",
    "layout = CreatePageLayout(titleItem=titleDiv, pageTabItems=[tempTabs, evapTab, rainTab, sunTab], align=\"center\", margin=(50, 0, 50, 50))\n",
    "\n",
    "curdoc().add_root(layout)\n",
    "curdoc().theme = 'dark_minimal'\n",
    "curdoc().title = \"ICT305 Assignment 2 - Pink Fluffy Unicorns\"\n"
   ]
  },
  {
   "cell_type": "code",
   "execution_count": 230,
   "id": "1a24f85980633d43",
   "metadata": {
    "ExecuteTime": {
     "end_time": "2023-10-23T14:33:46.291720900Z",
     "start_time": "2023-10-23T14:33:46.283807200Z"
    },
    "collapsed": false
   },
   "outputs": [],
   "source": []
  }
 ],
 "metadata": {
  "kernelspec": {
   "display_name": "Python 3 (ipykernel)",
   "language": "python",
   "name": "python3"
  },
  "language_info": {
   "codemirror_mode": {
    "name": "ipython",
    "version": 3
   },
   "file_extension": ".py",
   "mimetype": "text/x-python",
   "name": "python",
   "nbconvert_exporter": "python",
   "pygments_lexer": "ipython3",
   "version": "3.11.4"
  }
 },
 "nbformat": 4,
 "nbformat_minor": 5
}
